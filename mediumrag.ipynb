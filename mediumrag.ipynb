{
 "cells": [
  {
   "cell_type": "markdown",
   "id": "a783361a-bf43-4368-8e87-da8d9045e6c0",
   "metadata": {},
   "source": [
    "## Goal of this Notebook\n",
    "\n",
    "In this notebook we use langchain to build a simple RAG to Ollama and we ask the llama3 model for weather reports from the weather context fed from Milvus.\n",
    "\n",
    "### Simple Retrieval-Augmented Generation (RAG) with LangChain:\n",
    "\n",
    "Build a simple Python [RAG](https://milvus.io/docs/integrate_with_langchain.md) application (mediumrag.py) to use Milvus for asking about the current weather via OLLAMA.   While outputing to the screen we also send the results to Slack formatted as Markdown.\n",
    "\n",
    "### 🔍 Summary\n",
    "By the end of this application, you’ll have a comprehensive understanding of using Milvus, data ingest object semi-structured and unstructured data, and using Open Source models to build a robust and efficient data retrieval system.  \n",
    "\n",
    "\n",
    "\n"
   ]
  },
  {
   "cell_type": "code",
   "execution_count": 10,
   "id": "bb7eda13-5c3f-4394-9b42-0756129f7f0e",
   "metadata": {},
   "outputs": [
    {
     "name": "stderr",
     "output_type": "stream",
     "text": [
      "/Users/timothyspann/Downloads/code/milvusvenv/lib/python3.12/site-packages/transformers/tokenization_utils_base.py:1601: FutureWarning: `clean_up_tokenization_spaces` was not set. It will be set to `True` by default. This behavior will be depracted in transformers v4.45, and will be then set to `False` by default. For more details check this issue: https://github.com/huggingface/transformers/issues/31884\n",
      "  warnings.warn(\n"
     ]
    }
   ],
   "source": [
    "import os\n",
    "from pymilvus import MilvusClient\n",
    "from langchain_community.document_loaders import PyPDFLoader\n",
    "from langchain.text_splitter import RecursiveCharacterTextSplitter\n",
    "from langchain.chains import RetrievalQA\n",
    "from langchain_community.embeddings import HuggingFaceEmbeddings\n",
    "from langchain.callbacks.manager import CallbackManager\n",
    "from langchain.callbacks.streaming_stdout import StreamingStdOutCallbackHandler\n",
    "from langchain_community.llms import Ollama\n",
    "from langchain import hub\n",
    "from langchain_huggingface import HuggingFaceEmbeddings\n",
    "from langchain_community.vectorstores import Milvus\n",
    "from langchain import hub\n",
    "from langchain.chains import RetrievalQA\n",
    "from langchain_community.llms import Ollama\n",
    "from langchain.callbacks.manager import CallbackManager\n",
    "from langchain.callbacks.streaming_stdout import StreamingStdOutCallbackHandler\n",
    "import requests\n",
    "import sys\n",
    "import io\n",
    "import json\n",
    "import shutil\n",
    "import sys\n",
    "import datetime\n",
    "import subprocess\n",
    "import math\n",
    "import base64\n",
    "from time import gmtime, strftime\n",
    "import random, string\n",
    "import time\n",
    "import psutil\n",
    "import base64\n",
    "import uuid\n",
    "import socket\n",
    "from pymilvus import connections\n",
    "from pymilvus import utility\n",
    "from pymilvus import FieldSchema, CollectionSchema, DataType, Collection\n",
    "import torch\n",
    "from torchvision import transforms\n",
    "from PIL import Image\n",
    "import timm\n",
    "from sklearn.preprocessing import normalize\n",
    "from timm.data import resolve_data_config\n",
    "from timm.data.transforms_factory import create_transform\n",
    "from IPython.display import display\n",
    "from pymilvus import MilvusClient\n",
    "from slack_sdk import WebClient\n",
    "from slack_sdk.errors import SlackApiError\n",
    "from dotenv import load_dotenv\n",
    "load_dotenv(verbose=True)\n",
    "import requests\n",
    "from datetime import datetime, timedelta\n",
    "from langchain_milvus import Milvus\n",
    "from slack_sdk import WebClient\n",
    "from slack_sdk.errors import SlackApiError\n",
    "from langchain_core.globals import set_verbose, set_debug\n",
    "\n",
    "# Disable verbose logging\n",
    "set_verbose(False)\n",
    "\n",
    "# Disable debug logging\n",
    "set_debug(False)\n",
    "\n",
    "### Setup environment and constants\n",
    "\n",
    "DIMENSION = 384 \n",
    "MILVUS_URL = \"http://192.168.1.153:19530\" \n",
    "\n",
    "slack_token = os.environ.get(\"SLACK_BOT_TOKEN\")\n",
    "client = WebClient(token=slack_token)\n",
    "\n",
    "embeddings = HuggingFaceEmbeddings(model_name=\"all-MiniLM-L6-v2\")\n",
    "COLLECTION_NAME = \"mediumarticles\"\n",
    "DEFAULT_QUERY = \"What is the current weather in detail from Central park.\"\n",
    "\n",
    "### Environment Variables needed\n",
    "os.environ[\"LANGCHAIN_HUB_API_URL\"] = \"https://api.hub.langchain.com\"\n",
    "os.environ[\"LANGCHAIN_HUB_API_KEY\"] = os.environ.get(\"LANGCHAIN_HUB_API_KEY\")\n",
    "os.environ[\"LANGCHAIN_API_KEY\"] = os.environ.get(\"LANGCHAIN_HUB_API_KEY\")\n",
    "os.environ[\"LANGCHAIN_TRACING_V2\"] = \"true\"\n",
    "os.environ[\"LANGCHAIN_ENDPOINT\"] = \"https://api.hub.langchain.com\"\n",
    "os.environ[\"TOKENIZERS_PARALLELISM\"]  = \"true\"\n",
    "\n",
    "### Turn off slack warnings\n",
    "os.environ[\"SKIP_SLACK_SDK_WARNING\"] = \"false\"\n",
    "\n",
    "# https://api.python.langchain.com/en/latest/vectorstores/langchain_community.vectorstores.milvus.Milvus.html "
   ]
  },
  {
   "cell_type": "code",
   "execution_count": 11,
   "id": "0e1af4f4-db02-4af0-8637-e5c53bc1afd2",
   "metadata": {},
   "outputs": [],
   "source": [
    "### Set up connection to Milvus for medium articles\n",
    "vector_store = Milvus(\n",
    "    embedding_function=embeddings,\n",
    "    collection_name=COLLECTION_NAME,\n",
    "    primary_field = \"doc_id\",\n",
    "    vector_field = \"doc_embedding\",\n",
    "    text_field=\"doc_text\",\n",
    "    connection_args={\"uri\": MILVUS_URL},\n",
    ")"
   ]
  },
  {
   "cell_type": "code",
   "execution_count": 14,
   "id": "260235a1-c578-4871-9878-6cb6d6eaeb04",
   "metadata": {},
   "outputs": [],
   "source": [
    "# https://zilliz.com/blog/building-multilingual-rag-milvus-langchain-openai\n",
    "from langchain_core.runnables import RunnablePassthrough\n",
    "from langchain_core.output_parsers import StrOutputParser\n",
    "from langchain.prompts import ChatPromptTemplate\n",
    "\n",
    "#### Run query\n",
    "def run_query() -> None:\n",
    "    llm = Ollama(\n",
    "        model=\"llama3.1\",\n",
    "        callback_manager=CallbackManager([StreamingStdOutCallbackHandler()]),\n",
    "        stop=[\"<|eot_id|>\"],\n",
    "    )\n",
    "\n",
    "    query = input(\"\\nQuery: \")\n",
    "    qa_chain = RetrievalQA.from_chain_type(\n",
    "        llm, retriever=vector_store.as_retriever(collection =  COLLECTION_NAME))\n",
    "\n",
    "    result = qa_chain.invoke({\"query\": query})\n",
    "    \n",
    "    response = str(result[\"result\"])\n",
    "    # print(resultforslack)\n",
    "    \n",
    "    try:\n",
    "        slackresponse =  str(response).replace(\"**\",\"*\")\n",
    "                                   \n",
    "        slackresponse = client.chat_postMessage(mrkdwn=True, channel=\"C06NE1FU6SE\", text=\"\", \n",
    "                                            blocks=[{\"type\": \"section\",\"text\": {\"type\": \"mrkdwn\",\"text\": str(slackresponse) +\"\\n\" }}])\n",
    "    except SlackApiError as e:\n",
    "        print(\"Slack failed\")   "
   ]
  },
  {
   "cell_type": "code",
   "execution_count": null,
   "id": "7802515c-d927-483f-88b3-d4a2b44173bf",
   "metadata": {},
   "outputs": [
    {
     "name": "stderr",
     "output_type": "stream",
     "text": [
      "/var/folders/c2/6wq9klzn19d97gvw8f8j1jdr0000gn/T/ipykernel_20902/1639999201.py:8: DeprecationWarning: callback_manager is deprecated. Please use callbacks instead.\n",
      "  llm = Ollama(\n"
     ]
    },
    {
     "name": "stdin",
     "output_type": "stream",
     "text": [
      "\n",
      "Query:  What is Milvus?\n"
     ]
    },
    {
     "name": "stdout",
     "output_type": "stream",
     "text": [
      "Milvus is a vector database designed for efficient storage and retrieval of vectors (multi-dimensional numerical arrays), making it suitable for various applications such as computer vision, natural language processing, and more. It provides fast and scalable data management capabilities, enabling users to store, query, and analyze large-scale vector datasets with ease."
     ]
    },
    {
     "name": "stderr",
     "output_type": "stream",
     "text": [
      "/var/folders/c2/6wq9klzn19d97gvw8f8j1jdr0000gn/T/ipykernel_20902/1639999201.py:8: DeprecationWarning: callback_manager is deprecated. Please use callbacks instead.\n",
      "  llm = Ollama(\n"
     ]
    }
   ],
   "source": [
    "while True:\n",
    "    run_query()"
   ]
  },
  {
   "cell_type": "code",
   "execution_count": 9,
   "id": "e04fcdd4-3ce8-4ed1-a9c4-10d1fab272cb",
   "metadata": {},
   "outputs": [
    {
     "ename": "NameError",
     "evalue": "name 'retriever' is not defined",
     "output_type": "error",
     "traceback": [
      "\u001b[0;31m---------------------------------------------------------------------------\u001b[0m",
      "\u001b[0;31mNameError\u001b[0m                                 Traceback (most recent call last)",
      "Cell \u001b[0;32mIn[9], line 14\u001b[0m\n\u001b[1;32m      5\u001b[0m template\u001b[38;5;241m=\u001b[39m\u001b[38;5;124m\"\"\"\u001b[39m\n\u001b[1;32m      6\u001b[0m \u001b[38;5;124m   Use the context to answer questions about Milvus and format in Slack mrkdwn format.\u001b[39m\n\u001b[1;32m      7\u001b[0m \u001b[38;5;124m   \u001b[39m\u001b[38;5;132;01m{search}\u001b[39;00m\n\u001b[1;32m      8\u001b[0m \u001b[38;5;124m   Context: \u001b[39m\u001b[38;5;132;01m{context}\u001b[39;00m\n\u001b[1;32m      9\u001b[0m \u001b[38;5;124m   Answer:\u001b[39m\u001b[38;5;124m\"\"\"\u001b[39m\n\u001b[1;32m     11\u001b[0m prompt \u001b[38;5;241m=\u001b[39m ChatPromptTemplate\u001b[38;5;241m.\u001b[39mfrom_template(template)\n\u001b[1;32m     13\u001b[0m chain \u001b[38;5;241m=\u001b[39m (\n\u001b[0;32m---> 14\u001b[0m       {\u001b[38;5;124m\"\u001b[39m\u001b[38;5;124mcontext\u001b[39m\u001b[38;5;124m\"\u001b[39m: \u001b[43mretriever\u001b[49m, \u001b[38;5;124m\"\u001b[39m\u001b[38;5;124msearch\u001b[39m\u001b[38;5;124m\"\u001b[39m: RunnablePassthrough()}\n\u001b[1;32m     15\u001b[0m       \u001b[38;5;241m|\u001b[39m prompt\n\u001b[1;32m     16\u001b[0m       \u001b[38;5;241m|\u001b[39m llm\n\u001b[1;32m     17\u001b[0m       \u001b[38;5;241m|\u001b[39m StrOutputParser()\n\u001b[1;32m     18\u001b[0m   )\n\u001b[1;32m     20\u001b[0m query \u001b[38;5;241m=\u001b[39m \u001b[38;5;28minput\u001b[39m(\u001b[38;5;124m\"\u001b[39m\u001b[38;5;124mSearch: \u001b[39m\u001b[38;5;124m\"\u001b[39m)\n\u001b[1;32m     22\u001b[0m response \u001b[38;5;241m=\u001b[39m chain\u001b[38;5;241m.\u001b[39minvoke(query)\n",
      "\u001b[0;31mNameError\u001b[0m: name 'retriever' is not defined"
     ]
    }
   ],
   "source": [
    "from langchain_core.runnables import RunnablePassthrough\n",
    "from langchain_core.output_parsers import StrOutputParser\n",
    "from langchain.prompts import ChatPromptTemplate\n",
    "\n",
    "template=\"\"\"\n",
    "   Use the context to answer questions about Milvus and format in Slack mrkdwn format.\n",
    "   {search}\n",
    "   Context: {context}\n",
    "   Answer:\"\"\"\n",
    "  \n",
    "prompt = ChatPromptTemplate.from_template(template)\n",
    "\n",
    "chain = (\n",
    "      {\"context\": retriever, \"search\": RunnablePassthrough()}\n",
    "      | prompt\n",
    "      | llm\n",
    "      | StrOutputParser()\n",
    "  )\n",
    "\n",
    "query = input(\"Search: \")\n",
    "\n",
    "response = chain.invoke(query)\n",
    "\n",
    "try:\n",
    "    slackresponse =  str(response).replace(\"**\",\"*\")\n",
    "                               \n",
    "    slackresponse = client.chat_postMessage(mrkdwn=True, channel=\"C06NE1FU6SE\", text=\"\", \n",
    "                                        blocks=[{\"type\": \"section\",\"text\": {\"type\": \"mrkdwn\",\"text\": str(slackresponse) +\"\\n\" }}])\n",
    "except SlackApiError as e:\n",
    "    print(\"Slack failed\")\n",
    "        "
   ]
  },
  {
   "cell_type": "code",
   "execution_count": null,
   "id": "1e434a35-aab7-40e0-8352-c02a187c9ecc",
   "metadata": {},
   "outputs": [],
   "source": []
  }
 ],
 "metadata": {
  "kernelspec": {
   "display_name": "Python 3 (ipykernel)",
   "language": "python",
   "name": "python3"
  },
  "language_info": {
   "codemirror_mode": {
    "name": "ipython",
    "version": 3
   },
   "file_extension": ".py",
   "mimetype": "text/x-python",
   "name": "python",
   "nbconvert_exporter": "python",
   "pygments_lexer": "ipython3",
   "version": "3.12.5"
  }
 },
 "nbformat": 4,
 "nbformat_minor": 5
}
